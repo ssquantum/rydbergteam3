{
 "cells": [
  {
   "cell_type": "code",
   "execution_count": 6,
   "metadata": {
    "collapsed": false,
    "deletable": true,
    "editable": true
   },
   "outputs": [
    {
     "ename": "RuntimeError",
     "evalue": "module compiled against API version 0xc but this version of numpy is 0xb",
     "output_type": "error",
     "traceback": [
      "\u001b[1;31m---------------------------------------------------------------------------\u001b[0m",
      "\u001b[1;31mRuntimeError\u001b[0m                              Traceback (most recent call last)",
      "\u001b[1;31mRuntimeError\u001b[0m: module compiled against API version 0xc but this version of numpy is 0xb"
     ]
    },
    {
     "ename": "ImportError",
     "evalue": "numpy.core.multiarray failed to import",
     "output_type": "error",
     "traceback": [
      "\u001b[1;31m---------------------------------------------------------------------------\u001b[0m",
      "\u001b[1;31mImportError\u001b[0m                               Traceback (most recent call last)",
      "\u001b[1;32m<ipython-input-6-27afc2efa2cc>\u001b[0m in \u001b[0;36m<module>\u001b[1;34m()\u001b[0m\n\u001b[0;32m     14\u001b[0m \u001b[1;32mfrom\u001b[0m \u001b[0marc\u001b[0m \u001b[1;32mimport\u001b[0m \u001b[1;33m*\u001b[0m                 \u001b[1;31m#Import ARC (Alkali Rydberg Calculator)\u001b[0m\u001b[1;33m\u001b[0m\u001b[0m\n\u001b[0;32m     15\u001b[0m \u001b[1;33m\u001b[0m\u001b[0m\n\u001b[1;32m---> 16\u001b[1;33m \u001b[0matom\u001b[0m\u001b[1;33m=\u001b[0m\u001b[0mCaesium\u001b[0m\u001b[1;33m(\u001b[0m\u001b[1;33m)\u001b[0m\u001b[1;33m\u001b[0m\u001b[0m\n\u001b[0m",
      "\u001b[1;32mC:\\Users\\qgtx64\\AppData\\Local\\Enthought\\Canopy\\edm\\envs\\User\\lib\\site-packages\\arc\\alkali_atom_functions.py\u001b[0m in \u001b[0;36m__init__\u001b[1;34m(self, preferQuantumDefects, cpp_numerov)\u001b[0m\n\u001b[0;32m    173\u001b[0m \u001b[1;33m\u001b[0m\u001b[0m\n\u001b[0;32m    174\u001b[0m         \u001b[1;32mif\u001b[0m \u001b[0mself\u001b[0m\u001b[1;33m.\u001b[0m\u001b[0mcpp_numerov\u001b[0m\u001b[1;33m:\u001b[0m\u001b[1;33m\u001b[0m\u001b[0m\n\u001b[1;32m--> 175\u001b[1;33m             \u001b[1;32mfrom\u001b[0m \u001b[1;33m.\u001b[0m\u001b[0marc_c_extensions\u001b[0m \u001b[1;32mimport\u001b[0m \u001b[0mNumerovWavefunction\u001b[0m\u001b[1;33m\u001b[0m\u001b[0m\n\u001b[0m\u001b[0;32m    176\u001b[0m             \u001b[0mself\u001b[0m\u001b[1;33m.\u001b[0m\u001b[0mNumerovWavefunction\u001b[0m \u001b[1;33m=\u001b[0m \u001b[0mNumerovWavefunction\u001b[0m\u001b[1;33m\u001b[0m\u001b[0m\n\u001b[0;32m    177\u001b[0m \u001b[1;33m\u001b[0m\u001b[0m\n",
      "\u001b[1;31mImportError\u001b[0m: numpy.core.multiarray failed to import"
     ]
    }
   ],
   "source": [
    "# Configure the matplotlib graphics library and configure it to show \n",
    "\n",
    "# show figures inline in the notebook\n",
    "%matplotlib inline               \n",
    "import matplotlib.pyplot as plt  # Import library for direct plotting functions\n",
    "import numpy as np               # Import Numerical Python\n",
    "from IPython.core.display import display, HTML #Import HTML for formatting output\n",
    "\n",
    "# NOTE: Uncomment following lines ONLY if you are not using installation via pip\n",
    "# import sys, os\n",
    "# rootDir = '/path/to/arc/directory' # e.g. '/Users/Username/Desktop/ARC-Alkali-Rydberg-Calculator'\n",
    "# sys.path.insert(0,rootDir)\n",
    "\n",
    "from arc import *                 #Import ARC (Alkali Rydberg Calculator)\n",
    "\n",
    "atom=Caesium()"
   ]
  },
  {
   "cell_type": "code",
   "execution_count": 98,
   "metadata": {
    "collapsed": false,
    "deletable": true,
    "editable": true,
    "scrolled": false
   },
   "outputs": [
    {
     "name": "stdout",
     "output_type": "stream",
     "text": [
      "Polarisability of n=9, P, J=1.5 state is Alpha = 5.823324642487612e-37\n"
     ]
    }
   ],
   "source": [
    "#Initialise\n",
    "Polarisability = 0\n",
    "\n",
    "#Fundamental Constants\n",
    "h = 6.62607004 * 10**(-34)\n",
    "hbar = h/(2*np.pi)\n",
    "c = 299792458\n",
    "bohr = 5.2917721067 * 10**(-11)\n",
    "echarge = 1.6021766208 * 10**(-19)\n",
    "\n",
    "#Beam Parameters\n",
    "BeamWavelength = 980 * 10**(-9)\n",
    "Omega = 2*np.pi*c/BeamWavelength\n",
    "\n",
    "#Calculcate polarisability of Rydberg State n1 P J1\n",
    "n1=9\n",
    "l1=1\n",
    "j1=1.5\n",
    "\n",
    "#Loop over S states that can be transitioned to\n",
    "l2=0\n",
    "j2 = 0.5\n",
    "for n2 in range(6,51):\n",
    "    #Characteristics of transitions\n",
    "    Omega0 = 2*np.pi*atom.getTransitionFrequency(n1,l1,j1,n2,l2,j2)\n",
    "    Delta = Omega - Omega0\n",
    "    OmegaSum = Omega + Omega0\n",
    "    Gamma = atom.getTransitionRate(n1, l1, j1, n2, l2, j2, temperature=0.1)\n",
    "    D = atom.getReducedMatrixElementJ_asymmetric(n1,l1,j1,n2,l2,j2) * bohr * echarge\n",
    "\n",
    "    #Contribution to Polarisability\n",
    "    Alpha = ((D**2)/(3*hbar)) * ((Delta/(Delta**2 + (Gamma**2)/4)) + (OmegaSum/(OmegaSum**2 + (Gamma**2)/4)))\n",
    "    #print(Alpha)\n",
    "    Polarisability = Polarisability + Alpha\n",
    "\n",
    "#print('')    \n",
    "\n",
    "#Loop over D states that can be transitioned to \n",
    "l2 = 2\n",
    "for n2 in range(5,51):\n",
    "    for jay2 in range(0,2):\n",
    "        j2 = jay2 + 1.5 #Don't know how to loop when not over integers\n",
    "        #Characteristics of transitions\n",
    "        Omega0 = 2*np.pi*atom.getTransitionFrequency(n1,l1,j1,n2,l2,j2)\n",
    "        Delta = Omega - Omega0\n",
    "        OmegaSum = Omega + Omega0\n",
    "        Gamma = atom.getTransitionRate(n1, l1, j1, n2, l2, j2, temperature=0.1)\n",
    "        D = atom.getReducedMatrixElementJ_asymmetric(n1,l1,j1,n2,l2,j2) * bohr * echarge\n",
    "\n",
    "        #Contribution to Polarisability\n",
    "        Alpha = ((D**2)/(3*hbar)) * ((Delta/(Delta**2 + (Gamma**2)/4)) + (OmegaSum/(OmegaSum**2 + (Gamma**2)/4)))\n",
    "        #print(Alpha)\n",
    "        Polarisability = Polarisability + Alpha\n",
    "        \n",
    "#print('')\n",
    "print(\"Polarisability of n={}, P, J={} state is Alpha = {}\".format(n1,j1,Polarisability))"
   ]
  },
  {
   "cell_type": "code",
   "execution_count": null,
   "metadata": {
    "collapsed": true,
    "deletable": true,
    "editable": true
   },
   "outputs": [],
   "source": []
  }
 ],
 "metadata": {
  "kernelspec": {
   "display_name": "Python 3",
   "language": "python",
   "name": "python3"
  },
  "language_info": {
   "codemirror_mode": {
    "name": "ipython",
    "version": 3
   },
   "file_extension": ".py",
   "mimetype": "text/x-python",
   "name": "python",
   "nbconvert_exporter": "python",
   "pygments_lexer": "ipython3",
   "version": "3.5.2"
  }
 },
 "nbformat": 4,
 "nbformat_minor": 2
}
